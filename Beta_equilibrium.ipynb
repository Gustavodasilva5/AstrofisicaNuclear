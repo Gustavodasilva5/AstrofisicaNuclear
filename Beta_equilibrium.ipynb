{
 "cells": [
  {
   "cell_type": "markdown",
   "id": "competent-fitting",
   "metadata": {},
   "source": [
    "# $\\beta$-equilibrium in Neutron Stars\n",
    "## Introduction\n",
    "This notebook is part of the [Nuclear Astrophysics](https://master.us.es/fisicanuclear/index.php/cursos-2015-2017/astrofisica-nuclear-2) module of the [Inter-University Nuclear Physics Master's](https://master.us.es/fisicanuclear/index.php). The aim is to understand how to solve a set of equations imposing $\\beta-$stability within neutron stars. . An undergraduate introduction to neutron stars is available in [Silbar2004] (see Bibliography below).\n",
    "\n",
    "The interior of a neutron star is assumed to be in perfect equilibrium. Unlike real nuclei, this equilibrium applies as well to weak interactions because of the (large) density of the neutron-star interior. Assuming that we are interested only in neutrons, protons, electrons and muons, we are interested in the following weak-interaction processes:\n",
    "\\begin{align*}\n",
    "n \\to p+e+\\bar \\nu_e \\, , \\quad \n",
    "p+e \\to n + \\nu_e \\, , \\\\\n",
    "n \\to p+ \\mu +\\bar \\nu_\\mu \\, , \\quad \n",
    "p+ \\mu \\to n + \\nu_\\mu \\, .\n",
    "\\end{align*}\n",
    "We consider a neutron star that is transparent to neutrinos (which is a relatively good approximation for cold neutron stars), and therefore neglect the thermodynamics of neutrinos so that their chemical potentials are all null, $\\mu_{\\nu_x}=\\mu_{\\bar \\nu_x}=0$. The $\\beta-$equilibrium conditions become, in terms of the chemical potentials of all the particles $\\mu_x$,\n",
    "\\begin{align*}\n",
    "\\mu_n &= \\mu_p + \\mu_e \\, , \\tag{1} \\\\\n",
    "\\mu_\\mu &= \\mu_e  \\, . \\tag{2} \n",
    "\\end{align*}\n",
    "In addition, these two equations are supplemented by the conservation of baryon number and of electric charge:\n",
    "\\begin{align*}\n",
    "n&=n_n+n_p \\tag{3} \\, , \\\\ \n",
    "n_p&=n_e+n_\\mu  \\, . \\tag{4}\n",
    "\\end{align*}\n",
    "\n",
    "\n",
    "## Physical model\n",
    "We use as a model the energy per particle parametrized by Heiselberg and Hjorth-Jensen on [Heiselberg2000](Heiselberg2000). We choose to characterise the equation of state of dense matter in neutron star by two physical parameters:\n",
    "- $n$: the total baryon number density, representing the number density of neutrons and protons per unit of volume. In the interior of heavy nuclei, we typically find $n_0\\approx0.16$ fm$^{-3}$. \n",
    "- $x_p$: the proton fraction, $x_p=\\frac{n_p}{n}$, which characterises the isospin degree of freedom. In nuclei, we find $x_p \\approx 0.5-0.4$. In neutron stars, as we shall see, this quantity is substantially smaller.\n",
    "\n",
    "All other quantities can be derived from these if needed. For instance, the proton density is given by the product $n_p=x_p n$, whereas the neutron density is simply $n_n=(1-x_p)n$.\n",
    "\n",
    "In the simple parametrization proposed by Heiselberg and Hjorth-Jensen, the energy per particle of asymmetric neutron matter is given by the following expression:\n",
    "\\begin{align*}\n",
    "e( n,x_p ) = \\frac{e_0}{n_0} n \\frac{ n - n_0(2+\\delta) }{ n_0 + \\delta n} \n",
    "+ S_0 \\left( \\frac{ n }{ n_0} \\right)^\\gamma \\left( 1 - 2 x_p \\right)^2\n",
    "\\, , \\tag{5}\n",
    "\\end{align*}\n",
    "with the following free parameters:\n",
    " - $e_0=-15.8$ MeV: the saturation energy of nuclear matter, such that $e(n=n_0,x_p=0.5)=-e_0$.\n",
    " - $\\delta=0.2$: this is taken to make the compressibility of nuclear matter compatible with nuclear experiments, so $K=\n",
    " 9 n^2 \\left. \\frac{\\partial^2 e}{\\partial n^2} \\right|_{n=n_0,x_p=0.5}\n",
    " =\\frac{18 e_0}{1+\\delta} \\approx 200$ MeV.\n",
    " - $S_0=32$ MeV: the symmetry energy of nuclear matter at saturation density. In this model, this equals the difference between the energy per particle of symmetric and pure neutron matter at saturation, $S_0=e(n_0,0)-e(n_0,0.5)$.\n",
    " - $\\gamma=0.6$: this quantifies the density dependence of the isovector terms of the energy per particle."
   ]
  },
  {
   "cell_type": "markdown",
   "id": "bearing-basket",
   "metadata": {},
   "source": [
    "### Electron case\n",
    "Consider first the low-density regime. There, we are only interested in electrons and disregard muons. The reason is that the electron chemical potential is still smaller than the muon mass, $\\mu_e < m_\\mu c^2= 105.7$ MeV.\n",
    "The relevant $\\beta-$equilibrium condition is simply $\\mu_n=\\mu_p+\\mu_e$. With the previous choice of parametrization for the equation of state of matter, one can show that the difference between neutron and proton chemical potentials only depends on the second term in Eq. (5):\n",
    "\\begin{align} \n",
    "\\mu_n - \\mu_p = 4S_0\\left( \\frac{ n }{ n_0} \\right)^\\gamma (1-2x_p) \\, .\n",
    "\\tag{6}\n",
    "\\end{align} \n",
    "Assuming that electrons are ultrarelativistic, their chemical potential is given by the expression\n",
    "\\begin{align} \n",
    "\\mu_e = \\hbar c k_{F,e} = \\hbar c \\left( 3 \\pi^2 n_e \\right)^{1/3}\n",
    "= \\hbar c \\left( 3 \\pi^2 n x_p \\right)^{1/3}\\, .\n",
    "\\tag{7}\n",
    "\\end{align} \n",
    "Putting together the two previous expressions, one finds a single equation algebraic equation for $x_p$, of the type $2x_p - 1 + 2 \\mathcal{A} x_p^{1/3}=0$.\n",
    "\n",
    "### Electron and muons\n",
    "When the density increases, the muon threshold is reached whenever $\\mu_e > m_\\mu c^2$. The threshold depends on the equation of state. When this happens, one can still use Eq. (6) to determine $x_p$, but Eqs. (2) and (4) are still necessary to determine $x_e$ and $x_\\mu$. The code presented below provides the solution to these equations in a simplified setting."
   ]
  },
  {
   "cell_type": "markdown",
   "id": "supposed-paintball",
   "metadata": {},
   "source": [
    "## The code\n",
    "The python code `beta_equilibrium.py` provides a solution to the $\\beta-$equilibrium equations. The code starts by importing the necessary libraries to perform numerical analysis (numpy) and plotting (matplotlib)."
   ]
  },
  {
   "cell_type": "code",
   "execution_count": 1,
   "id": "passing-evanescence",
   "metadata": {},
   "outputs": [],
   "source": [
    "import numpy as np\n",
    "import matplotlib.pyplot as plt"
   ]
  },
  {
   "cell_type": "markdown",
   "id": "upper-guard",
   "metadata": {},
   "source": [
    "This is followed by a call to import the numerical values of the relevant physical constants from the `physical_constants.py` file and to the equation of state functions, which are necessary to obtain the energy and pressure contributions of the leptons."
   ]
  },
  {
   "cell_type": "code",
   "execution_count": 2,
   "id": "limiting-outreach",
   "metadata": {},
   "outputs": [],
   "source": [
    "from physical_constants import *\n",
    "# IMPORT EQUATION-OF-STATE FUNCTIONS\n",
    "from eos_functions import *"
   ]
  },
  {
   "cell_type": "markdown",
   "id": "appointed-local",
   "metadata": {},
   "source": [
    "Next, we define the baryon densities, $n$. We create an array of densities with `num_densities` distributed from `numden_i` to `numden_f`."
   ]
  },
  {
   "cell_type": "code",
   "execution_count": 3,
   "id": "tough-dispute",
   "metadata": {},
   "outputs": [],
   "source": [
    "# NUMBER OF DENSITIES\n",
    "num_densities=100\n",
    "# CREATE DENSITY ARRAY\n",
    "n0=0.16 # Density of normal nuclear matter in fm^{-3}\n",
    "numden_i=0.5*n0\n",
    "numden_f=10*n0\n",
    "numden=np.linspace( numden_i,numden_f,num_densities )"
   ]
  },
  {
   "cell_type": "markdown",
   "id": "electoral-unknown",
   "metadata": {},
   "source": [
    "We now introduce the values of the parameters:"
   ]
  },
  {
   "cell_type": "code",
   "execution_count": 4,
   "id": "assumed-gilbert",
   "metadata": {},
   "outputs": [],
   "source": [
    "# Parameters of EOS, Heiselberg+Hjorth-Jensen, Phys. Rep. 328 237 (2000)\n",
    "# ANALYTICAL FORM: e = e0*u*(u-2-delta)/(1.+delta*u)+s0*u**gamma*(1-2.*xp)**2.\n",
    "e0=15.8    # Saturation energy in MeV\n",
    "delta=0.2  #\n",
    "s0=32.     # Symmetry energy in MeV\n",
    "gamma=0.6  # Power-law dependence of symmetry energy"
   ]
  },
  {
   "cell_type": "markdown",
   "id": "annoying-doctor",
   "metadata": {},
   "source": [
    "Next, we decide whether we want to solve a problem with (`muons=True`) or without (`muons=False`) them."
   ]
  },
  {
   "cell_type": "code",
   "execution_count": 11,
   "id": "organizational-benefit",
   "metadata": {},
   "outputs": [],
   "source": [
    "# LOGICAL VALUE TO INCLUDE MUONS OR NOT IN CALCULATION\n",
    "muons = True"
   ]
  },
  {
   "cell_type": "markdown",
   "id": "british-environment",
   "metadata": {},
   "source": [
    "We then define the asymmetry term in the equation of state, which is necessary in solving the $\\beta-$equilibrium conditions."
   ]
  },
  {
   "cell_type": "code",
   "execution_count": 6,
   "id": "suffering-dubai",
   "metadata": {},
   "outputs": [],
   "source": [
    "# Asymmetry term as a function of density\n",
    "sn=s0*np.power(numden/n0,gamma)"
   ]
  },
  {
   "cell_type": "markdown",
   "id": "exposed-honor",
   "metadata": {},
   "source": [
    "The code then loops over the numder density values and solves the corresponding equilibrium conditions. The solver starts with an initial guess of $x_p=10^{-4}$, and finds the correct value by recurrence. The equations to be solved are slightly different depending on whether $\\mu_e$ is smaller or larger than $m_\\mu c^2$."
   ]
  },
  {
   "cell_type": "code",
   "execution_count": 12,
   "id": "concerned-player",
   "metadata": {},
   "outputs": [],
   "source": [
    "# STARTING NON-ZERO VALUE OF XP FOR ZERO FINDING ROUTINE\n",
    "xp=np.zeros(num_densities)+1e-4\n",
    "# Initial proton fraction\n",
    "accuracy=1e-12\n",
    "# START LOOP OVER densities\n",
    "for iden,dens in enumerate( numden ):\n",
    "    xpold=xp[iden]\n",
    "    ssn=sn[iden]\n",
    "\n",
    "# FIRST GUESS OF ELECTRON FUNCTION\n",
    "    xmu_e=4.*ssn*(1.-2.*xpold)   # electron fraction\n",
    "\n",
    "# FIND XP BY SELF-CONSISTENT XP BY\n",
    "    diff=1.\n",
    "    while diff > accuracy :\n",
    "        xpnew=np.power(4.*ssn*(1.-2.*xpold),3)\n",
    "        if (xmu_e > m_mu) & muons :\n",
    "            xpnew=xpnew + np.power( np.power(4.*ssn*(1.-2.*xpold),2) - np.power(m_mu,2) ,1.5)\n",
    "        xpnew=xpnew/(3.*np.power(pi,2)*dens*hbc3)\n",
    "\n",
    "        xpold=(xpnew+xpold)/2.\n",
    "        xmu_e=4.*ssn*(1.-2.*xpold)\n",
    "        diff=np.abs( xpnew-xpold )\n",
    "\n",
    "    #print(xpold,xpnew,diff)\n",
    "\n",
    "# THIS SETS THE PROTON FRACTION FROM NOW ON\n",
    "    xp[iden]=xpnew"
   ]
  },
  {
   "cell_type": "markdown",
   "id": "bottom-bundle",
   "metadata": {},
   "source": [
    "Having found the values of $n$ and $x_p$ that fulfill $\\beta-$equilibrium, we find the nuclear properties - including the energy density and the pressure due to baryons. The latter is found numerically by applying the equation $P= n^2 \\frac{\\partial e}{\\partial n}$."
   ]
  },
  {
   "cell_type": "code",
   "execution_count": 13,
   "id": "arbitrary-freight",
   "metadata": {},
   "outputs": [],
   "source": [
    "##############################################################################\n",
    "# NUCLEONS\n",
    "# NUCLEAR ENERGY PER PARTICLE\n",
    "u=numden/n0\n",
    "enuc=e0*u*(u-2.-delta)/(1.+delta*u) \\\n",
    "+s0*np.power(numden/n0,gamma)*np.power( (1.-2.*xp),2 )\n",
    "\n",
    "# proton density in fm-3\n",
    "rhop=numden*xp\n",
    "# neutron density in fm-3\n",
    "rhon=numden*(1.-xp)\n",
    "xn=1.-xp\n",
    "\n",
    "# energy density (baryonic part)   in MeV fm-3\n",
    "edens_n=np.zeros(num_densities)\n",
    "edens_n=enuc*numden + rhon*mneut + rhop*mprot\n",
    "\n",
    "# Calculating the pressure from (total) derivative of energy density (baryonic part)\n",
    "pres0=-e0*(n0-numden)*np.power(numden,2)*( (2.+delta)*n0 + delta*numden )\n",
    "pres0=pres0/( n0*np.power( n0+delta*numden,2 ) )\n",
    "pres1=s0*gamma*np.power(n0,-gamma)*np.power( (rhon - rhop),2 )*np.power(numden,gamma-1.)\n",
    "p_nuc=pres0+pres1"
   ]
  },
  {
   "cell_type": "markdown",
   "id": "public-logging",
   "metadata": {},
   "source": [
    "We then compute the lepton contributions. These make use of the corresponding thermodynamical equations for electrons and muons."
   ]
  },
  {
   "cell_type": "code",
   "execution_count": 14,
   "id": "parallel-dover",
   "metadata": {},
   "outputs": [],
   "source": [
    "# PREPARE LEPTON CONTRIBUTION\n",
    "electron_eden_units=np.power(m_el,4)/hbc3/3./np.power(pi,2)\n",
    "muon_eden_units=np.power(m_mu,4)/hbc3/3./np.power(pi,2)\n",
    "\n",
    "# ELECTRONS\n",
    "# Electron chemical potential\n",
    "xmue=4.*sn*(1.-2.*xp)\n",
    "# Electron Fermi momentum (ultrarelativistic electron)\n",
    "xkfe=np.sqrt( np.power(xmue,2) - np.power( m_el,2) )\n",
    "# Electron density in fm-3\n",
    "rhoe=np.power(xkfe,3)/(3*np.power(pi,2)*hbc3)\n",
    "# Electron energy density in MeV*fm-3\n",
    "edens_e=electron_eden_units*energy(xkfe/m_el)\n",
    "x_el=rhoe/numden\n",
    "\n",
    "# MUONS\n",
    "# Muon density\n",
    "rhomu=np.where( xmue>m_mu, rhop - rhoe, 0. )\n",
    "# Muon chemical potential\n",
    "xmumu=np.where( xmue>m_mu, xmue, 0. )\n",
    "# Muon Fermi momentum\n",
    "xkfmu=np.zeros(num_densities)\n",
    "xkfmu=np.sqrt( np.power(xmumu,2) - np.power( m_mu,2) , where=xmue>m_mu )\n",
    "# MUON ENERGY DENSITY\n",
    "edens_m=muon_eden_units*energy(xkfmu/m_mu)\n",
    "x_mu=rhomu/numden\n",
    "\n",
    "# LEPTON ENERGY CONTRIBUTIONS\n",
    "edens_l=edens_e+edens_m\n",
    "\n",
    "# LEPTON PRESSURE CONTRIBUTIONS\n",
    "p_el=electron_eden_units*pressure(xkfe/m_el)\n",
    "p_mu=muon_eden_units*pressure(xkfmu/m_mu)\n",
    "p_lep=p_el+p_mu"
   ]
  },
  {
   "cell_type": "markdown",
   "id": "inner-purchase",
   "metadata": {},
   "source": [
    "Finally, the baryon and lepton pressure and energy contributions are added up; stored in a file; and plotted. "
   ]
  },
  {
   "cell_type": "code",
   "execution_count": 15,
   "id": "christian-thesaurus",
   "metadata": {},
   "outputs": [
    {
     "data": {
      "image/png": "[encoded data removed]",
      "text/plain": [
       "<Figure size 432x288 with 2 Axes>"
      ]
     },
     "metadata": {
      "needs_background": "light"
     },
     "output_type": "display_data"
    }
   ],
   "source": [
    "##############################################################################\n",
    "# ADD CONTRIBUTIONS OF NUCLEONS, ELECTRONS AND MUONS\n",
    "edens=edens_n + edens_l\n",
    "press=p_nuc + p_lep\n",
    "\n",
    "# EXPORTS DATA TO SCREEN\n",
    "#fmt_out='{:11.6f} {:11.6f} {:11.6f} {:11.6f} {:11.6f} {:11.6f} {:11.6f} {:11.6f}'\n",
    "#for iden,den in enumerate( numden ) :\n",
    "#    print(fmt_out.format(edens[iden],press[iden],numden[iden]/rho0, \\\n",
    "#    numden[iden],xp[iden],xn[iden],x_el[iden],x_mu[iden]))\n",
    "\n",
    "# PLOT PARTICLE FRACTIONS AS A FUNCTION OF DENSITY\n",
    "fig, (ax1,ax2) = plt.subplots(2,sharex=True)\n",
    "ax1.semilogy(numden,xn,label='Neutrons',lw=1.5)\n",
    "ax1.semilogy(numden,xp,'--',lw=1.5,label='Protons')\n",
    "ax1.semilogy(numden,x_el,'-.',lw=1.5,label='Electrons')\n",
    "ax1.semilogy(numden,x_mu,':',lw=1.5,label='Muons')\n",
    "ax1.legend(loc='lower right')\n",
    "ax1.set_ylim([1e-3,1])\n",
    "ax2.set(xlabel=r'Density, $ \\rho $ fm$^{-3}$')\n",
    "ax1.set(ylabel=r'Particle fractions, $x_i$')\n",
    "ax2.set(ylabel=r'Pressure, $P$ [MeV fm$^{-3}$]')\n",
    "\n",
    "# PLOT PRESSURE CONTRIBUTIONS\n",
    "ax2.semilogy(numden,press,label='Total',lw=1.5)\n",
    "ax2.semilogy(numden,p_nuc,'--',label='Nucleon',lw=1.5)\n",
    "ax2.semilogy(numden,p_lep,'-.',label='Lepton',lw=1.5)\n",
    "ax2.legend(loc='lower right')\n",
    "\n",
    "plt.show()\n",
    "\n",
    "# WRITING OUTPUT IN MR.dat FILE\n",
    "#data_to_write = np.array( [edens[:],press[:],u[:]] ).T\n",
    "#outputfile=\"EoS_HH.dat\"\n",
    "#with open(outputfile,\"w+\") as file_id :\n",
    "#    np.savetxt(file_id,data_to_write,fmt=[\"%16.6E\",\"%16.6E\",\"%16.6E\"],header=\"  eden [MeVfm-3]   Pres [MeVfm-3]     Den/0.16\")"
   ]
  },
  {
   "cell_type": "markdown",
   "id": "japanese-deposit",
   "metadata": {},
   "source": [
    "# BIBLIOGRAPHY\n",
    "<a id='Silbar2003'></a> [Silbar2004] S. Silbar & S. Reddy, [American Journal of Physics 72, 892 (2004)](https://doi.org/10.1119/1.1703544); [nucl-th/0309041\n",
    "](https://arxiv.org/abs/nucl-th/0309041).\n",
    "\n",
    "<a id='Heiselberg2000'></a> [Heiselberg2000] H. Heiselberg & M. Hjorth-Jensen, [Physics Reports 328, 237 (2000)](https://doi.org/10.1016/S0370-1573(99)00110-6); [nucl-th/9902033](https://arxiv.org/abs/nucl-th/9902033).\n",
    "\n",
    "<a id='Shapiro'></a> [Shapiro] Stuart L. Shapiro & Saul A. Teukolsky, \n",
    "*Black Holes, White Dwarfs, and Neutron Stars: The Physics of Compact Objects* (1983), ISBN 9780471873167;\n",
    "[doi:10.1002/9783527617661](https://doi.org/doi:10.1002/9783527617661).\n",
    "\n",
    "<a id='Haensel'></a> [Haensel] P. Haensel, A. Y. Potekhin & D. G. Yakovlev,\n",
    "*Neutron Stars 1: Equation of State and Structure*\n",
    "(2003),\n",
    "ISBN 978-0-387-33543-8,\n",
    "[doi:10.1007/978-0-387-47301-7](https://doi.org/10.1007/978-0-387-47301-7)."
   ]
  }
 ],
 "metadata": {
  "kernelspec": {
   "display_name": "Python 3",
   "language": "python",
   "name": "python3"
  },
  "language_info": {
   "codemirror_mode": {
    "name": "ipython",
    "version": 3
   },
   "file_extension": ".py",
   "mimetype": "text/x-python",
   "name": "python",
   "nbconvert_exporter": "python",
   "pygments_lexer": "ipython3",
   "version": "3.9.5"
  }
 },
 "nbformat": 4,
 "nbformat_minor": 5
}
