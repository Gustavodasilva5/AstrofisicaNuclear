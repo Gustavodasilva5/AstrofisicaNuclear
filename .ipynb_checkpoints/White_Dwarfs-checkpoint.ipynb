{
 "cells": [
  {
   "cell_type": "markdown",
   "id": "worldwide-billy",
   "metadata": {},
   "source": [
    "# The structure and properties of White Dwarfs\n",
    "## Introduction\n",
    "This notebook is part of the [Nuclear Astrophysics](https://master.us.es/fisicanuclear/index.php/cursos-2015-2017/astrofisica-nuclear-2) module of the [Inter-University Nuclear Physics Master's](https://master.us.es/fisicanuclear/index.php). The aim is to understand how to solve the stellar structure equations for white dwarf stars, with pressure provided by a degenerate electron gas. Pedagogical introductions to this topic can be found in the references [Jackson2004](Jacksoon2004).\n",
    "\n",
    "The equations to solve involve the equation of hydrostatic equilibium and the mass conservation equation:\n",
    "\n",
    "\\begin{align} \n",
    "\\frac{dP(r)}{dr}& = - \\frac{G m(r) \\rho(r)}{r^2} \\, , \\label{eq:pressure} \\tag{1} \\\\ \n",
    "\\frac{dm_<(r)}{dr}& = 4 \\pi r^2 \\rho(r) \\, . \\label{eq:mass}  \\tag{2} \n",
    "\\end{align} \n",
    "These equation relate the following variables:\n",
    " - $r$ is a radial coordinate spanning from the center of the star, $r=0$, to the radius of the star, $r=R$. \n",
    " - $P(r)$ is the pressure profile in the interior of the star, with two boundary conditions: a central pressure, $P(r=0)=P_c$, and the zero pressure at the stellar radius, $P(r=R)=0$. \n",
    " - The density profile, $\\rho(r)$, has the corresponding boundary conditions $\\rho(r=0)=\\rho_c$ and $\\rho(r=R)=0$. \n",
    " - $m_<(r)$ corresponds to the enclosed mass up to a given radial coordinate $r$. In other words, there is no mass at the central point, $m_<(r=0)=0$, whereas at the surface it encloses all the mass of the star, $m_<(r=R)=M$. \n",
    "\n",
    "## Physical considerations \n",
    "For a degenerate star, the two equations above are supplemented by an equation of state relating the pressure to the mass density, $P \\equiv P(\\rho)$. For a relativistic system of fermions, the density dependence is usually expressed in terms of the Fermi momentum. This is typically written in terms of the number density, $n$, as opposed to the mass density, $\\rho$, so that $k_F=\\left( 3 \\pi^2 n \\right)^{1/3}$. Furthermore, one can define the dimensionless Fermi momentum, $x_F=\\frac{\\hbar k_F}{m c}$, where $m$ is the mass of the particle providing the pressure (electrons in this case). This dimensionless ratio of two momenta defines two different regimes. A non-relativistic degenerate gas typicall has $x_F \\ll 1$, whereas a relativistic degenerate one has $x_F \\gg 1$. }$\n",
    "\n",
    "How does one compute the pressure for the relativistic gas? \n",
    "We start with the expression of the energy density of a relativistic gas:\n",
    "\\begin{align*}\n",
    "    \\mathcal{E}(x_F) = \\frac{ (mc^2)^4 }{8 \\pi^2( \\hbar c)^3} \\left[ x_F \\left( 1+2x_F^2 \\right) \\sqrt{ 1 + x_F^2 } - \\ln \\left( x_F + \\sqrt{ 1+x_F^2} \\right) \\right] \\, , \\label{eq:energy}\n",
    "\\end{align*}\n",
    "and its derivative \n",
    "$\n",
    "    \\mathcal{E}'(x_F) = \\frac{ (mc^2)^4 }{\\pi^2( \\hbar c)^3} \\frac{ x_F^2 + x_F^4 }{\\sqrt{ 1+x_F^2}}\\, . \n",
    "$    \n",
    "To obtain the pressure, we can use the following thermodynamical equation,\n",
    "\n",
    "\\begin{align*}\n",
    "P = - \\left. \\frac{\\partial E}{\\partial V} \\right|_{N,T=0} = \n",
    "- \\left. \\frac{\\partial V \\mathcal{E}}{\\partial V} \\right|_{N,T=0} = \n",
    "- \\mathcal{E} - V \\left. \\frac{\\partial \\mathcal{E}}{\\partial V} \\right|_{N,T=0} \\, .\n",
    "\\label{eq:presTD} \\tag{3}\n",
    "\\end{align*}\n",
    "\n",
    "We can express the second term by a successive application of the chain rule:\n",
    "\n",
    "\\begin{align*}\n",
    "V \\left. \\frac{\\partial \\mathcal{E}}{\\partial V} \\right|_{N,T=0} = \n",
    "V \\left. \\underbrace{\\frac{\\partial \\mathcal{E}}{\\partial x_F}}_{\\mathcal{E}'(x_F)} \n",
    "\\underbrace{ \\frac{\\partial x_F}{\\partial k_F} }_{ \\frac{\\hbar}{mc} }\n",
    "\\underbrace{ \\frac{ \\partial k_F}{ \\partial V} }_{- \\frac{k_F}{3 V} } \\right. %|_{N,T=0} = \n",
    "=\n",
    "- \\frac{1}{3} x_F \\mathcal{E}'(x_F)\n",
    "\\end{align*}\n",
    "\n",
    "Going back to Eq. \\eqref{eq:presTD}, we see that the pressure can be obtained from the combination\n",
    "\n",
    "\\begin{align*}\n",
    "P( x_F) = - \\mathcal{E} +\\frac{1}{3} x_F \\mathcal{E}'(x_F)  \\, . \\tag{4}\n",
    "\\label{eq:pres_rel_deg} \n",
    "\\end{align*}\n",
    "\n",
    "\n",
    "## The code\n",
    "The python code `white_dwarfs.py` provides a solution to these equations. We now proceed to discuss the code following its structure. The code starts by importing the necessary libraries to perform numerical analysis (numpy) and plotting (matplotlib)."
   ]
  },
  {
   "cell_type": "code",
   "execution_count": 1,
   "id": "supreme-african",
   "metadata": {},
   "outputs": [],
   "source": [
    "import numpy as np\n",
    "import matplotlib.pyplot as plt"
   ]
  },
  {
   "cell_type": "markdown",
   "id": "overhead-course",
   "metadata": {},
   "source": [
    "This is followed by a call to import the numerical values of the relevant physical constants from the `physical_constants.py` file."
   ]
  },
  {
   "cell_type": "code",
   "execution_count": 2,
   "id": "overhead-position",
   "metadata": {},
   "outputs": [],
   "source": [
    "from physical_constants import *"
   ]
  },
  {
   "cell_type": "markdown",
   "id": "boring-collar",
   "metadata": {},
   "source": [
    "The equation of state of degenerate matter is defined in the functions within the file `eos_functions.py` . These provide the equation \n",
    "\\begin{align}\n",
    "\\mathbf{r} \\equiv \\begin{bmatrix}\n",
    "y \\\\\n",
    "\\theta\n",
    "\\end{bmatrix}\n",
    "\\label{eq:vector_ray} \\tag{1}\n",
    "\\end{align}\n",
    "\n",
    "Vector **r** is defined by equation $\\eqref{eq:vector_ray}$"
   ]
  },
  {
   "cell_type": "code",
   "execution_count": null,
   "id": "wound-spyware",
   "metadata": {},
   "outputs": [],
   "source": [
    "# IMPORT EQUATION-OF-STATE FUNCTIONS\n",
    "from eos_functions import energy,derenergy"
   ]
  },
  {
   "cell_type": "markdown",
   "id": "other-florida",
   "metadata": {},
   "source": [
    "# BIBLIOGRAPHY\n",
    "<a id='Jackson2004'></a> [Jackson2004] Jackson et al., [European Journal of Physics 26, 695 (2004)](http://dx.doi.org/10.1088/0143-0807/26/5/003); [astro-ph:0409348](http://arxiv.org/abs/astro-ph/).\n"
   ]
  },
  {
   "cell_type": "code",
   "execution_count": null,
   "id": "threaded-death",
   "metadata": {},
   "outputs": [],
   "source": []
  }
 ],
 "metadata": {
  "kernelspec": {
   "display_name": "Python 3",
   "language": "python",
   "name": "python3"
  },
  "language_info": {
   "codemirror_mode": {
    "name": "ipython",
    "version": 3
   },
   "file_extension": ".py",
   "mimetype": "text/x-python",
   "name": "python",
   "nbconvert_exporter": "python",
   "pygments_lexer": "ipython3",
   "version": "3.9.1"
  }
 },
 "nbformat": 4,
 "nbformat_minor": 5
}
