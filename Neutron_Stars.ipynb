{
 "cells": [
  {
   "cell_type": "markdown",
   "id": "quiet-enclosure",
   "metadata": {},
   "source": [
    "# The structure and properties of Neutron Stars\n",
    "## Introduction\n",
    "This notebook is part of the [Nuclear Astrophysics](https://master.us.es/fisicanuclear/index.php/cursos-2015-2017/astrofisica-nuclear-2) module of the [Inter-University Nuclear Physics Master's](https://master.us.es/fisicanuclear/index.php). The aim is to understand how to solve the stellar structure equations for neutron stars, with pressure provided by the equation of state of degenerate and interacting neutrons. You should read the [White Dwarf notebook](White_Dwarfs.ipynb) before attempting this one. An undergraduate introduction to neutron stars is available in [Silbar2004] (see Bibliography below).\n",
    "\n",
    "\n",
    "We are interesting in solving the equations of hydrostatic equilibium for a spherical object. In the case of White Dwarves, the Newtonian equations can be safely used. The importance of General Relativistic effects is usually measured in terms of the compactness, \n",
    "$\\mathcal{C} = \\frac{2GM}{Rc^2} = 0.295 \n",
    "\\frac{M}{M_\\odot}\n",
    "\\frac{10 \\textrm{ km}}{R}$. For white dwarfs, the compactness is typically $\\mathcal{C} \\approx 10^{-3}$ and it is thus safe to use Newtonian equations. For neutron stars, in contrast, $\\mathcal{C}$ can be as large as $0.5$ and a general relativistic formulation becomes necessary. The hydrostatic pressure and mass-energy conservation equations are the so-called Tolman-Oppenheimer-Volkov (TOV) equations and read:\n",
    "\n",
    "\\begin{align} \n",
    "\\frac{dP(r)}{dr}& = - \\frac{G m_<(r) \\rho(r)}{r^2} \n",
    "\\frac{ \\left( 1 + \\frac{P(r)}{\\rho(r) c^2} \\right) \n",
    "\\left( 1 + \\frac{4 \\pi P(r) r^3}{m(r)_< c^2} \\right) }{\n",
    "1 - \\frac{2 G m_<(r)}{r c^2} }\n",
    "\\, , \\label{eq:pressure} \\tag{1} \\\\ \n",
    "\\frac{dm_<(r)}{dr}& = 4 \\pi r^2 \\rho(r) \\, . \\label{eq:mass}  \\tag{2} \n",
    "\\end{align} \n",
    "\n",
    "The variables in this equation are exactly the same as in the [White Dwarf case](White_Dwarfs.ipynb).\n",
    "\n",
    "## Physical considerations \n",
    "For a degenerate star, the two equations above are supplemented by an equation of state relating the pressure to the mass density, $P \\equiv P(\\rho)$. Here, one could use a free neutron gas equation of state. This would be exactly the same as in the [White Dwarf case](White_Dwarfs.ipynb), but with the replacements $m_e \\to m_n$ and $Y_e=1$. Alternatively, one could use a tabulated equation of state including effects like the interaction between neutrons or the changing composition inside of the star due to $\\beta-$equilibrium. This code can handle both options.  "
   ]
  },
  {
   "cell_type": "markdown",
   "id": "sacred-diversity",
   "metadata": {},
   "source": [
    "## Dimensionless reduction\n",
    "The procedure to get a dimensionless version of the equations follows the exact same steps as in the [White Dwarf case](White_Dwarfs.ipynb). Our choice of dimensionless variables is such that the additional GR factors in the hydrostatic equilibrium equation are all accompanied by factors which are exactly equal to $1$. In other words, \n",
    "$\\frac{P_0}{\\rho_c c^2} = \\frac{2 G M_0}{R_0 c^2} =1$,and the dimensionless TOV equations become:\n",
    "\\begin{align} \n",
    "\\frac{d \\bar P( \\bar r)}{d \\bar r}& = \n",
    "- \\frac{\\bar  m_<(\\bar r) \\bar \\rho(\\bar r)}{\\bar r^2} \n",
    "\\frac{ \\left( 1 + \\frac{\\bar P(\\bar r)}{\\bar \\rho(\\bar r) c^2} \\right) \n",
    "\\left( 1 + \\frac{4 \\pi \\bar P(\\bar r) \\bar r^3}{\\bar m(\\bar r)_< c^2} \\right) }{\n",
    "1 - \\frac{2 G \\bar m_<(\\bar r)}{\\bar r c^2} }\n",
    "\\, , \\\\\n",
    "\\frac{d \\bar m_<(\\bar r)}{d\\bar r}& = 4 \\pi \\bar r^2 \\bar \\rho(\\bar r) \\, . \\tag{2} \n",
    "\\end{align} \n",
    "Considering the replacements $m_e \\to m_n$ and $Y_e=1$, we find the following typical scales for this problem:\n",
    "\n",
    "\\begin{align} \n",
    "\\rho_0 & =\\frac{n_0 m_n}{Y_e} \\approx \n",
    "6.1 \\times 10^{18} \\textrm{ kg m}^{-3} \\, , \\\\\n",
    "P_0& =\\frac{ \\mathcal{E}_0 }{3 \\pi^2} = \n",
    "\\frac{ (m_n c^2)^4 }{( \\hbar c)^3 3 \\pi^2}  \n",
    "\\approx \n",
    "5.47 \\times 10^{35} \\textrm{ Pa} \\, , \\\\\n",
    "R_0 &= \\frac{ \\sqrt{3 \\pi}}{2 \\alpha_G^{1/2}} \\left( \\frac{\\hbar}{m_e c} \\right) \\approx 4.2 \\, \\textrm{ km} \\, , \\\\\n",
    "M_0 &= \\frac{ \\sqrt{3 \\pi}}{ 2\\alpha_G^{3/2}}  m_n Y_e^2 \\approx 2.84  M_\\odot  \\, .\n",
    "\\end{align}"
   ]
  },
  {
   "cell_type": "markdown",
   "id": "great-idaho",
   "metadata": {},
   "source": [
    "## The code\n",
    "The python code `neutron_stars.py` provides a solution to the TOV equations and follows the same structure as `neutron_stars.py`. The code starts by importing the necessary libraries to perform numerical analysis (numpy) and plotting (matplotlib)."
   ]
  },
  {
   "cell_type": "code",
   "execution_count": 1,
   "id": "american-badge",
   "metadata": {},
   "outputs": [],
   "source": [
    "import numpy as np\n",
    "import matplotlib.pyplot as plt"
   ]
  },
  {
   "cell_type": "markdown",
   "id": "plastic-exhaust",
   "metadata": {},
   "source": [
    "This is followed by a call to import the numerical values of the relevant physical constants from the `physical_constants.py` file and to the equation of state functions (in case one wants to solve the Fermi gas neutron star)."
   ]
  },
  {
   "cell_type": "code",
   "execution_count": 2,
   "id": "powerful-archives",
   "metadata": {},
   "outputs": [],
   "source": [
    "from physical_constants import *\n",
    "# IMPORT EQUATION-OF-STATE FUNCTIONS\n",
    "from eos_functions import *"
   ]
  },
  {
   "cell_type": "markdown",
   "id": "tracked-remove",
   "metadata": {},
   "source": [
    "Next, we define the central densities, $\\rho_c$. Just like in the [White Dwarf case](White_Dwarfs.ipynb), we choose a single central density as an initial example. "
   ]
  },
  {
   "cell_type": "code",
   "execution_count": 3,
   "id": "adapted-excerpt",
   "metadata": {},
   "outputs": [],
   "source": [
    "# NUMBER OF CENTRAL DENSITIES (AND HENCE OF MASSES & RADII)\n",
    "number_central_density=1\n",
    "# RANGE OF CENTRAL DENSITIES - 0.35 to 0.75 WORKS WELL\n",
    "central_density_i=0.55\n",
    "central_density_f=0.55\n",
    "# DENSITIES DISTRIBUTED IN LOGARITHMIC STENCIL\n",
    "#xfc_range=np.power(10,np.linspace(np.log10(central_density_i),np.log10(central_density_f),number_central_density))\n",
    "xfc_range=np.linspace(central_density_i,central_density_f,number_central_density)"
   ]
  },
  {
   "cell_type": "markdown",
   "id": "historic-occurrence",
   "metadata": {},
   "source": [
    "We now define the typical scales for mass, radius, mass density and pressure."
   ]
  },
  {
   "cell_type": "code",
   "execution_count": 4,
   "id": "chief-generation",
   "metadata": {},
   "outputs": [
    {
     "name": "stdout",
     "output_type": "stream",
     "text": [
      "Typical Units for Neutron Stars\n",
      "# M0=2.84018 [M_sun]\n",
      "# R0=4.19 [km]\n",
      "# rho0=6.0894E+18*xF^3 [kg m-3]\n",
      "# P0=5.4729E+35 [Pa]\n"
     ]
    }
   ],
   "source": [
    "# MASS UNITS\n",
    "M0_noYe=np.sqrt(3.*pi)/2./np.power(alphaG,1.5)*mnuc_kg/Msun\n",
    "mass_units=M0_noYe # unit mass M_0 in solar masses for y_e\n",
    "# RADIUS UNITS\n",
    "R0_noYe=np.sqrt(3.*pi)/2./np.power(alphaG,0.5)*(hbar/mnuc_kg/c)/1e3\n",
    "radial_units=R0_noYe   # unit length R_0 in Km for y_e\n",
    "# DENSITY UNITS\n",
    "rho_noYe=np.power(mnuc_kg*c/hbar,3)*mnuc_kg/(3.*np.power(pi,2))\n",
    "# PRESSURE UNITS\n",
    "press_units=np.power(mnuc_kg*c,4)/np.power(hbar,3)*c/3./np.power(pi,2)\n",
    "\n",
    "print('Typical Units for Neutron Stars')\n",
    "txt='# M0={:.5f} [M_sun]'\n",
    "print(txt.format(mass_units))\n",
    "txt='# R0={:.2f} [km]'\n",
    "print(txt.format(radial_units))\n",
    "txt='# rho0={:.4E}*xF^3 [kg m-3]'\n",
    "print(txt.format(rho_noYe))\n",
    "txt='# P0={:.4E} [Pa]'\n",
    "print(txt.format(press_units))"
   ]
  },
  {
   "cell_type": "markdown",
   "id": "illegal-negative",
   "metadata": {},
   "source": [
    "If a tabulated equation-of-state is used, one should read the corresponding tables before solving the differential equations. This is done in the following step by reading two separate files. The first, `NS_EOS/crust.dat`, includes the equation of state of the neutron-star curst with $2573$ points. The second one, `NS_EOS/EOS_npe_HHparam.dat`, contains $100$ values for the equation of state in the star's core. The following step reads the pressure, energy density and number density for the crust and core; concatenates them; and reduces all quantities to dimensionless variables. It is important to note that most EoS tabulate the mass-energy density, $\\epsilon=\\rho c^2$, rather than the mass density, $\\rho$."
   ]
  },
  {
   "cell_type": "code",
   "execution_count": 5,
   "id": "informal-yesterday",
   "metadata": {},
   "outputs": [],
   "source": [
    "# ... FIXED NUMBER OF CRUST AND CORE POINTS\n",
    "# ... Read files of density, energy density and presure (crust and core)\n",
    "ncrust=2573    # points to consider from the crust file\n",
    "file_crust=\"./NS_EOS/crust.dat\"\n",
    "# ... READ CRUST FILE\n",
    "eden_crust, pres_crust,den_crust = np.loadtxt(file_crust,usecols=(0,1,2)).T\n",
    "\n",
    "ncore=100      # points to consider from the core file\n",
    "file_core=\"./NS_EOS/EOS_npe_HHparam.dat\"\n",
    "eden_core, pres_core,den_core = np.loadtxt(file_core,usecols=(0,1,2)).T\n",
    "\n",
    "# CONCATENATE ARRAYS\n",
    "nf=ncrust+ncore\n",
    "eden=np.concatenate((eden_crust,eden_core))\n",
    "pres=np.concatenate((pres_crust,pres_core))\n",
    "numden=np.concatenate((den_crust,den_core))\n",
    "\n",
    "# TRANSFORM TO DIMENSIONLESS UNITS\n",
    "# Energy density and pressure from MeVfm-3 to dimensionless\n",
    "conv1=np.power(mneut,4)/hbc3/3./np.power(pi,2)\n",
    "eden=eden/conv1\n",
    "pres=pres/conv1\n",
    "\n",
    "# Number density in units of rho0\n",
    "numden=numden\n",
    "\n",
    "densmax=np.amax( eden )"
   ]
  },
  {
   "cell_type": "markdown",
   "id": "liked-citizen",
   "metadata": {},
   "source": [
    "The dimensionless TOV equations are solved using the same Euler method as for the [White Dwarf case](White_Dwarfs.ipynb). Here, the equation of state is used in the right-hand-side of Eq. (A). The inversion $\\rho=\\rho[P]$ is performed by interpolation."
   ]
  },
  {
   "cell_type": "code",
   "execution_count": 6,
   "id": "naughty-train",
   "metadata": {},
   "outputs": [
    {
     "name": "stdout",
     "output_type": "stream",
     "text": [
      "# M= 1.463 [M_sun] # R=   11.87 [km]\n"
     ]
    }
   ],
   "source": [
    "##########################################################################\n",
    "# STEP SIZE OF INTEGRATION IN RADIAL COORDINATE\n",
    "step_size=1e-4\n",
    "# MAXIMUM NUMBER OF STEPS IN INTEGRATION\n",
    "iradial_max=int(1000./step_size)\n",
    "\n",
    "# INITIALIZE MASS AND RADIUS ARRAYS\n",
    "NS_mass=np.zeros(number_central_density)\n",
    "NS_radius=np.zeros(number_central_density)\n",
    "\n",
    "# FOR EACH RHO_C, THIS STORES THE NUMBER OF POINTS IN RADIAL COORDINATE\n",
    "number_coord=np.zeros( number_central_density,dtype=int )\n",
    "# THIS STORES THE VALUE OF r, m_< & p FOR ALL RHO_C AND RADIAL COORDINATES\n",
    "radial_coord=np.zeros( (number_central_density,iradial_max) )\n",
    "mass_profile=np.zeros( (number_central_density,iradial_max) )\n",
    "pres_profile=np.zeros( (number_central_density,iradial_max) )\n",
    "numden_profile=np.zeros( (number_central_density,iradial_max) )\n",
    "\n",
    "# FORMATS FOR OUTPUT\n",
    "fmt_MR='# M={:6.3f} [M_sun] # R={:8.2f} [km]'\n",
    "\n",
    "# LOOP OVER CENTRAL DENSITY\n",
    "for irhoc, xfc in enumerate(xfc_range) :\n",
    "\n",
    "    # Numerical trick to provide a similar number of steps for all masses\n",
    "    stepr=step_size/xfc#**(0.75)\n",
    "\n",
    "    # Solve differential equations with Euler method\n",
    "    # Initial conditions\n",
    "    mass_old=0.\n",
    "    dens_old=np.power(xfc,3)\n",
    "    press_old=np.interp(dens_old,eden,pres)\n",
    "    numden_old=np.interp(dens_old,eden,numden)    \n",
    "    r_old=stepr\n",
    "\n",
    "    if( dens_old >= densmax) :\n",
    "        print('Maximum density is too high - decrease')\n",
    "        print('Current density')\n",
    "        print(dens_old)\n",
    "        exit()\n",
    "\n",
    "    for iradial in range(0,iradial_max):\n",
    "\n",
    "# STORE IN ARRAY\n",
    "        radial_coord[ irhoc,iradial ]=r_old*radial_units # IN METERS\n",
    "        mass_profile[ irhoc,iradial ]=mass_old*mass_units # IN SOLAR MASSES\n",
    "        pres_profile[ irhoc,iradial ]=press_old*press_units # IN\n",
    "        numden_profile[ irhoc,iradial ]=numden_old\n",
    "\n",
    "# EULER STEP FORWARD\n",
    "        dm=np.power(r_old,2)*dens_old*stepr\n",
    "\n",
    "        if( mass_old == 0) :\n",
    "            dp=0.\n",
    "        else:\n",
    "            dp=-mass_old*dens_old/np.power(r_old,2)*stepr\n",
    "            dp=dp*(1.+press_old/dens_old)\n",
    "            dp=dp*(1.+press_old*np.power(r_old,3) / mass_old)\n",
    "            dp=dp/(1.-2.*mass_old/r_old)\n",
    "\n",
    "# NEW DATA IN EULER\n",
    "        press_new=press_old+dp\n",
    "        if press_new < 0. : break\n",
    "        mass_new=mass_old+dm\n",
    "        r_new=r_old+stepr\n",
    "\n",
    "        # USE FOR FFG\n",
    "        #dens_old=invert_eos(press_new)\n",
    "        \n",
    "        dens_old=np.interp(press_new,pres,eden)\n",
    "        numden_old=np.interp(press_new,pres,numden)\n",
    "\n",
    "        r_old=r_new\n",
    "        mass_old=mass_new\n",
    "        press_old=press_new\n",
    "    else:\n",
    "        print(\"Too many iterations\")\n",
    "        exit()\n",
    "    # EXITING LOOP OVER RADIAL COORDINATES\n",
    "\n",
    "    if( iradial < 100 ) :\n",
    "        print((\"Small number of iterations niter=\",iradial))\n",
    "\n",
    "    # FOR EACH CENTRAL DENSITY irhoc, STORE THE NUMBER OF RADIAL COORDINATES; THE RADIUS AND MASS OF THE STAR\n",
    "    number_coord[ irhoc ] = int(iradial)\n",
    "    NS_radius[ irhoc ] = r_old*radial_units\n",
    "    NS_mass[ irhoc ] = mass_old*mass_units\n",
    "\n",
    "    print(fmt_MR.format(NS_mass[irhoc],NS_radius[irhoc]))\n",
    "    # END LOOP OVER CENTRAL DENSITY"
   ]
  },
  {
   "cell_type": "markdown",
   "id": "constitutional-static",
   "metadata": {},
   "source": [
    "Having computed one neutron-star profile, we can now plot the results for the enclosed mass; the number density and the pressure as a function of radial variable. These give us an indication of the interior properties of the star."
   ]
  },
  {
   "cell_type": "code",
   "execution_count": 7,
   "id": "unique-dominican",
   "metadata": {},
   "outputs": [
    {
     "data": {
      "image/png": "[encoded data removed]",
      "text/plain": [
       "<Figure size 432x288 with 3 Axes>"
      ]
     },
     "metadata": {
      "needs_background": "light"
     },
     "output_type": "display_data"
    }
   ],
   "source": [
    "# PLOT A MASS-RADIUS DIAGRAM, INCLUDING THE STAR'S PRESSURE AND NUMBER DENSITY PROFILE AS A FUNCTION OF r\n",
    "fig, (ax1,ax2,ax3) = plt.subplots(3,sharex=True)\n",
    "for iplot in range(0,number_central_density) :\n",
    "    ax1.plot(radial_coord[iplot,1:number_coord[iplot]], mass_profile[iplot,1:number_coord[iplot]],'c--',)\n",
    "    ax2.plot(radial_coord[iplot,1:number_coord[iplot]], numden_profile[iplot,1:number_coord[iplot]],'g-',)\n",
    "    ax3.semilogy(radial_coord[iplot,1:number_coord[iplot]], pres_profile[iplot,1:number_coord[iplot]],'g-',)\n",
    "\n",
    "ax1.plot( NS_radius,NS_mass,'o-')\n",
    "\n",
    "ax1.set(ylabel='Mass, $m_<(r)$ [$M_\\odot$]')\n",
    "ax1.set_ylim([0,2.5])\n",
    "ax2.set(ylabel='$n(r)/0.16$ []')\n",
    "ax2.set_ylim([0,10])\n",
    "ax3.set(ylabel='Pressure, $P(r)$ [Pa]')\n",
    "ax3.set_ylim([1e26,1e36])\n",
    "\n",
    "ax3.set(xlabel='Radial coordinate [km]')\n",
    "ax3.set_xlim([0,20])\n",
    "\n",
    "plt.show()\n",
    "\n",
    "# WRITING OUTPUT IN MR.dat FILE\n",
    "#data_to_write = np.array( [NS_mass[:],NS_radius[:]] ).T\n",
    "#outputfile=\"MR.dat\"\n",
    "#with open(outputfile,\"w+\") as file_id :\n",
    "#    np.savetxt(file_id,data_to_write,fmt=[\"%16.6E\",\"%16.6E\"],header=\"  Radius [km]   Mass [M_sun]\")"
   ]
  },
  {
   "cell_type": "markdown",
   "id": "registered-narrow",
   "metadata": {},
   "source": [
    "# BIBLIOGRAPHY\n",
    "<a id='Silbar2003'></a> [Silbar2004] S. Silbar & S. Reddy, [American Journal of Physics 72, 892 (2004)](https://doi.org/10.1119/1.1703544); [nucl-th/0309041\n",
    "](https://arxiv.org/abs/nucl-th/0309041).\n",
    "\n",
    "<a id='Shapiro'></a> [Shapiro] Stuart L. Shapiro & Saul A. Teukolsky, \n",
    "*Black Holes, White Dwarfs, and Neutron Stars: The Physics of Compact Objects* (1983), ISBN 9780471873167;\n",
    "[doi:10.1002/9783527617661](https://doi.org/doi:10.1002/9783527617661).\n",
    "\n",
    "<a id='Haensel'></a> [Haensel] P. Haensel, A. Y. Potekhin & D. G. Yakovlev,\n",
    "*Neutron Stars 1: Equation of State and Structure*\n",
    "(2003),\n",
    "ISBN 978-0-387-33543-8,\n",
    "[doi:10.1007/978-0-387-47301-7](https://doi.org/10.1007/978-0-387-47301-7)."
   ]
  }
 ],
 "metadata": {
  "kernelspec": {
   "display_name": "Python 3",
   "language": "python",
   "name": "python3"
  },
  "language_info": {
   "codemirror_mode": {
    "name": "ipython",
    "version": 3
   },
   "file_extension": ".py",
   "mimetype": "text/x-python",
   "name": "python",
   "nbconvert_exporter": "python",
   "pygments_lexer": "ipython3",
   "version": "3.9.1"
  }
 },
 "nbformat": 4,
 "nbformat_minor": 5
}
