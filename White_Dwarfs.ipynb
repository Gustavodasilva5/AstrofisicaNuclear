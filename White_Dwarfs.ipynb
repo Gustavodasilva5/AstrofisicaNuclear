{
 "cells": [
  {
   "cell_type": "markdown",
   "id": "framed-hawaiian",
   "metadata": {},
   "source": [
    "# The structure and properties of White Dwarfs\n",
    "## Introduction\n",
    "This notebook is part of the [Nuclear Astrophysics](https://master.us.es/fisicanuclear/index.php/cursos-2015-2017/astrofisica-nuclear-2) module of the [Inter-University Nuclear Physics Master's](https://master.us.es/fisicanuclear/index.php). The aim is to understand how to solve the stellar structure equations for white dwarf stars, with pressure provided by a degenerate electron gas. Pedagogical introductions to this topic can be found in the references [Jackson2004](Jacksoon2004).\n",
    "\n",
    "The equations to solve involve the equation of hydrostatic equilibium and the mass conservation equation:\n",
    "\n",
    "\\begin{align} \n",
    "\\frac{dP(r)}{dr}& = - \\frac{G m_<(r) \\rho(r)}{r^2} \\, , \\label{eq:pressure} \\tag{1} \\\\ \n",
    "\\frac{dm_<(r)}{dr}& = 4 \\pi r^2 \\rho(r) \\, . \\label{eq:mass}  \\tag{2} \n",
    "\\end{align} \n",
    "These equation relate the following variables:\n",
    " - $r$ is a radial coordinate spanning from the center of the star, $r=0$, to the radius of the star, $r=R$. \n",
    " - $P(r)$ is the pressure profile in the interior of the star, with two boundary conditions: a central pressure, $P(r=0)=P_c$, and the zero pressure at the stellar radius, $P(r=R)=0$. \n",
    " - The density profile, $\\rho(r)$, has the corresponding boundary conditions $\\rho(r=0)=\\rho_c$ and $\\rho(r=R)=0$. \n",
    " - $m_<(r)$ corresponds to the enclosed mass up to a given radial coordinate $r$. In other words, there is no mass at the central point, $m_<(r=0)=0$, whereas at the surface it encloses all the mass of the star, $m_<(r=R)=M$. "
   ]
  },
  {
   "cell_type": "markdown",
   "id": "south-cambridge",
   "metadata": {},
   "source": [
    "## Physical considerations \n",
    "For a degenerate star, the two equations above are supplemented by an equation of state relating the pressure to the mass density, $P \\equiv P(\\rho)$. For a relativistic system of fermions, the density dependence is usually expressed in terms of the Fermi momentum. This is typically written in terms of the number density, $n$, as opposed to the mass density, $\\rho$, so that $k_F=\\left( 3 \\pi^2 n \\right)^{1/3}$. Furthermore, one can define the dimensionless Fermi momentum, \n",
    "\\begin{align*} \n",
    "x_F=\\frac{\\hbar k_F}{m c} \\tag{3}\n",
    "\\end{align*} , where $m$ is the mass of the particle providing the pressure (electrons in this case). This dimensionless ratio of two momenta defines two different regimes. A non-relativistic degenerate gas typicall has $x_F \\ll 1$, whereas a relativistic degenerate one has $x_F \\gg 1$. \n",
    "\n",
    "How does one compute the pressure for the relativistic gas? \n",
    "We start with the expression of the energy density of a relativistic gas:\n",
    "\n",
    "\\begin{align}\n",
    "    \\mathcal{E} (x_F) = \n",
    "    \\frac{ \\mathcal{E}_0 }{8 \\pi^2} \\left[ x_F \\left( 1+2x_F^2 \\right) \\sqrt{ 1 + x_F^2 } - \\ln \\left( x_F + \\sqrt{ 1+x_F^2} \\right) \\right] \\, , \\label{eq:energy} \\tag{4}\n",
    "\\end{align}\n",
    "\n",
    "where the constant $\\mathcal{E}_0 = \\frac{ (mc^2)^4 }{ (\\hbar c)^3}$. We will also need the derivative of the previous function,\n",
    "$$\n",
    "    \\mathcal{E}'(x_F) = \\frac{ \\mathcal{E}_0 }{\\pi^2} \\frac{ x_F^2 + x_F^4 }{\\sqrt{ 1+x_F^2}}\\ , .  \\label{eq:derenergy} \\tag{5}\n",
    "$$    \n",
    "To obtain the pressure, we can use the following thermodynamical equation,\n",
    "\n",
    "\\begin{align*}\n",
    "P = - \\left. \\frac{\\partial E}{\\partial V} \\right|_{N,T=0} = \n",
    "- \\left. \\frac{\\partial V \\mathcal{E}}{\\partial V} \\right|_{N,T=0} = \n",
    "- \\mathcal{E} - V \\left. \\frac{\\partial \\mathcal{E}}{\\partial V} \\right|_{N,T=0} \\, .\n",
    "\\label{eq:presTD} \\tag{6}\n",
    "\\end{align*}\n",
    "\n",
    "We can express the second term by a successive application of the chain rule:\n",
    "\n",
    "\\begin{align*}\n",
    "V \\left. \\frac{\\partial \\mathcal{E}}{\\partial V} \\right|_{N,T=0} = \n",
    "V \\left. \\underbrace{\\frac{\\partial \\mathcal{E}}{\\partial x_F}}_{\\mathcal{E}'(x_F)} \n",
    "\\underbrace{ \\frac{\\partial x_F}{\\partial k_F} }_{ \\frac{\\hbar}{mc} }\n",
    "\\underbrace{ \\frac{ \\partial k_F}{ \\partial V} }_{- \\frac{k_F}{3 V} } \\right. %|_{N,T=0} = \n",
    "=\n",
    "- \\frac{1}{3} x_F \\mathcal{E}'(x_F)\n",
    "\\end{align*}\n",
    "\n",
    "Going back to Eq. \\eqref{eq:presTD}, we see that the pressure can be obtained from the combination\n",
    "\n",
    "\\begin{align*}\n",
    "P( x_F) &= - \\mathcal{E} +\\frac{1}{3} x_F \\mathcal{E}'(x_F)   \\\\\n",
    "& = \\frac{ \\mathcal{E}_0 }{24 \\pi^2} \\left[ \n",
    "x_F \\sqrt{x_F^2+1} (2x_F^2-3) + 3 \\textrm{arcsinh}(x_F)\n",
    "\\right] \\, . \\tag{7}\n",
    "\\label{eq:pres_rel_deg} \n",
    "\\end{align*}\n",
    "\n",
    "We can use the previous expressions in the two limiting cases in terms of relativistic effects:\n",
    " - Non-relativistic limit $x \\ll 1$: \n",
    " $\\mathcal{E}(x_F) \\approx \\frac{ \\mathcal{E}_0 }{3 \\pi^2} x^3_F$ and $P(x_F) \\approx \\frac{ \\mathcal{E}_0 }{15 \\pi^2} x^5_F$.\n",
    "\n",
    " - Relativistic limit $x \\gg 1$: \n",
    " $\\mathcal{E}(x_F) \\approx \\frac{ \\mathcal{E}_0 }{4 \\pi^2} x^4_F$ and $P(x_F) \\approx \\frac{ \\mathcal{E}_0 }{12 \\pi^2} x^4_F$."
   ]
  },
  {
   "cell_type": "markdown",
   "id": "awful-prime",
   "metadata": {},
   "source": [
    "## Dimensionless reduction\n",
    "We use dimensionless units to solve this problem. We take Eqs. (1) and (2) and intoduce typical scales for the mass, $M_0$; radial coordinate, $R_0$; density, $\\rho_0$; and pressure, $P_0$. One can then rescale the mass profile (and all other quantities) in terms of these scales, $m_<=M_0 \\bar m_<$, where $\\bar m_<$ is a dimensionless variable. If $M_0$ and the remaining constants are chosen appropriately, the dimensionless variables of the problem should all be of order $\\approx 1$. In terms of these scales, Eqs. (1) and (2) read\n",
    "\n",
    "\\begin{align*} \n",
    "\\frac{d\\bar P(\\bar r)}{d \\bar r}& = - \\frac{G M_0 \\rho_0}{P_0 R_0} \n",
    "\\frac{\\bar m(\\bar r) \\bar \\rho(\\bar r)}{\\bar r^2} \n",
    "\\, , \\label{eq:pressure} \\tag{1b} \\\\ \n",
    "\\frac{d \\bar m_<(\\bar r)}{d \\bar r}& = \n",
    "\\frac{ 4 \\pi R_0^3 \\rho_0}{M_0} \\bar r^2 \\bar  \\rho( \\bar r) \\, . \\label{eq:mass}  \\tag{2b} \n",
    "\\end{align*} \n",
    "\n",
    "We take the liberty to simplify the equations above by setting all the constants to $1$, thus getting\n",
    "\n",
    "\\begin{align*} \n",
    "\\frac{G M_0 \\rho_0}{R_0^2} &= 1 \\tag{A}  \\Rightarrow \\frac{d\\bar P(\\bar r)}{d \\bar r} = - \n",
    "\\frac{\\bar m(\\bar r) \\bar \\rho(\\bar r)}{\\bar r^2} \n",
    "\\, , \\\\\n",
    "\\frac{ 4 \\pi R_0^3 \\rho_0}{M_0}  &= 1 \\tag{B}  \\Rightarrow \n",
    "\\frac{d \\bar m_<(\\bar r)}{d \\bar r} = \n",
    " \\bar r^2 \\bar  \\rho( \\bar r) \n",
    "\\, , \\\\\n",
    "\\end{align*} \n",
    "\n",
    "### Density \n",
    "The natural choice of density units comes from the definition of dimensionless Fermi momentum in Eq. (3), which can be rewritten like $x_F=(n/n_0)^{1/3}$ with \n",
    "\n",
    "$$\n",
    "n_0=\\frac{(m_ec)^3}{3 \\pi^2 \\hbar^2} \\approx 5.87 \\times 10^{35} \\textrm{ m}^{-3} \\, .\n",
    "$$\n",
    "\n",
    "This can be translated into a relation for mass density, $\\rho = \\frac{m_n}{Y_e} n = \\rho_0 x_F^3$, such that a typical density scale for a degenerate gas in the non-relativistic to relativistic regimes becomes:\n",
    "\n",
    "$$\n",
    "\\rho_0=\\frac{n_0 m_n}{Y_e} \\approx \n",
    "6.1 \\times 10^{18} \\textrm{ kg m}^{-3} \\, .\n",
    "$$\n",
    "\n",
    "### Pressure\n",
    "A typical pressure scale for a degenerate electron gas in this region can be obtained from Eq. (7). We choose to characterise the pressure scale by the following constant\n",
    "$$\n",
    "P_0=\\frac{ \\mathcal{E}_0 }{3 \\pi^2} \\approx \n",
    "4.81 \\times 10^{22} \\textrm{ Pa} \\, .\n",
    "$$\n",
    "\n",
    "### Mass and radial coordinate\n",
    "Having found $\\rho_0$ and $P_0$, we can now isolate the mass and radius relation from the previous equations to find:\n",
    "\n",
    "\\begin{align*}\n",
    "R_0 &= \\frac{ \\sqrt{3 \\pi}}{2 \\alpha_G^{1/2}} \\left( \\frac{\\hbar}{m_e c} \\right) Y_e \\approx 7,707 Y_e \\, \\textrm{ km} \\, , \\\\\n",
    "M_0 &= \\frac{ \\sqrt{3 \\pi}}{ 2\\alpha_G^{3/2}}  m_n Y_e^2 \\approx 2.84 Y_e^2 M_\\odot  \\, ,\n",
    "\\end{align*}\n",
    "where we have introduced the dimensionless gravitational constants between two nucleons, $\\alpha_G=\\frac{Gm_n^2}{\\hbar c} \\approx 5.91 \\times 10^{-39}$."
   ]
  },
  {
   "cell_type": "markdown",
   "id": "drawn-baltimore",
   "metadata": {},
   "source": [
    "## The code\n",
    "The python code `white_dwarfs.py` provides a solution to the stellar strucure equations in their dimensionless form assuming that the pressure is provided by a degenerate non-interacting Fermi gas. We now proceed to discuss the code following its structure. The code starts by importing the necessary libraries to perform numerical analysis (numpy) and plotting (matplotlib)."
   ]
  },
  {
   "cell_type": "code",
   "execution_count": null,
   "id": "fallen-refund",
   "metadata": {},
   "outputs": [],
   "source": [
    "import numpy as np\n",
    "import matplotlib.pyplot as plt"
   ]
  },
  {
   "cell_type": "markdown",
   "id": "architectural-partition",
   "metadata": {},
   "source": [
    "This is followed by a call to import the numerical values of the relevant physical constants from the `physical_constants.py` file."
   ]
  },
  {
   "cell_type": "code",
   "execution_count": null,
   "id": "separate-excess",
   "metadata": {},
   "outputs": [],
   "source": [
    "from physical_constants import *"
   ]
  },
  {
   "cell_type": "markdown",
   "id": "destroyed-philippines",
   "metadata": {},
   "source": [
    "The equation of state of degenerate matter is defined in the functions within the file [eos_functions.py](eos_functions.py). These code in the two functions described in Eq. (3) and (4)."
   ]
  },
  {
   "cell_type": "code",
   "execution_count": null,
   "id": "noticed-collectible",
   "metadata": {},
   "outputs": [],
   "source": [
    "# IMPORT EQUATION-OF-STATE FUNCTIONS\n",
    "from eos_functions import *"
   ]
  },
  {
   "cell_type": "markdown",
   "id": "downtown-release",
   "metadata": {},
   "source": [
    "Next, we define the central densities, $\\rho_c$. The code will integrate the star's profile outwards starting from this value. The integration of Eqs. (1) and (2) will lead to one value of a star's total mass, $M$, and total radius, $R$. We start by choosing a single value, number_central_density=1 and $\\rho_c=1$ in units of $\\rho_0$."
   ]
  },
  {
   "cell_type": "code",
   "execution_count": null,
   "id": "specific-cancer",
   "metadata": {},
   "outputs": [],
   "source": [
    "# NUMBER OF CENTRAL DENSITIES (AND HENCE OF MASSES & RADII)\n",
    "number_central_density=20\n",
    "# RANGE OF CENTRAL DENSITIES\n",
    "central_density_i=0.5\n",
    "central_density_f=100.\n",
    "\n",
    "# DENSITIES DISTRIBUTED IN LOGARITHMIC STENCIL\n",
    "xfc_range=np.power(10,np.linspace(np.log10(central_density_i),np.log10(central_density_f),number_central_density))"
   ]
  },
  {
   "cell_type": "markdown",
   "id": "agricultural-evidence",
   "metadata": {},
   "source": [
    "The electron fraction is defined here, followed by the relevant scales of mass, $M_0$; radial coordinate, $R_0$; pressure, $P_0$ and mass density $\\rho_0$."
   ]
  },
  {
   "cell_type": "code",
   "execution_count": null,
   "id": "engaging-schedule",
   "metadata": {},
   "outputs": [],
   "source": [
    "# ELECTRON FRACTION\n",
    "Ye=0.5;\n",
    "\n",
    "# MASS UNITS FOR A VALUE OF Ye\n",
    "M0_noYe=np.sqrt(3.*pi)/2./np.power(alphaG,1.5)*mnuc_kg/Msun\n",
    "mass_units=M0_noYe*np.power(Ye,2.) # unit mass M_0 in solar masses for y_e\n",
    "# RADIUS UNITS FOR A VALUE OF Ye\n",
    "R0_noYe=np.sqrt(3.*pi)/2./np.power(alphaG,0.5)*(hbar/me/c)/1e3\n",
    "radial_units=R0_noYe*Ye   # unit length R_0 in Km for y_e\n",
    "\n",
    "# DENSITY UNITS\n",
    "rho_noYe=np.power(me*c/hbar,3)*mnuc_kg/(3.*np.power(pi,2))\n",
    "\n",
    "# PRESSURE UNITS\n",
    "press_units=np.power(me*c,4)/np.power(hbar,3)*c/3./np.power(pi,2)\n",
    "\n",
    "print('Typical Units for White Dwarfs')\n",
    "txt='# M0={:.5f} [M_sun]'\n",
    "print(txt.format(mass_units))\n",
    "txt='# R0={:.2f} [km]'\n",
    "print(txt.format(radial_units))\n",
    "txt='# rho0={:.4E}/Ye*xF^3 [kg m-3]'\n",
    "print(txt.format(rho_noYe))\n",
    "txt='# P0={:.4E} [Pa]'\n",
    "print(txt.format(press_units))\n"
   ]
  },
  {
   "cell_type": "markdown",
   "id": "polish-wagner",
   "metadata": {},
   "source": [
    "The (dimensionless) differential equations Eqs. (A) and (B) are solved by a using the Euler method. The radial variable is discretized so that $r_i = i \\Delta r$. We start with known values of the pressure, $P_0=P_c$, and the mass, $m_{<,0}=0$, at the centre, $r_0=0$. Using a Taylor expansion around $r_0$ (or any arbitrary point $r_i$, for that matter), we can approximate the values of these functions at $r_1= \\Delta r$ (or $r_{i+1}$) as:\n",
    "\n",
    "\\begin{align*}\n",
    "P_{i+1} &\\approx P_i + \\left. \\frac{dP}{dr} \\right|_i \\Delta r \\\\\n",
    "m_{<,i+1} &\\approx m_{<,i} + \\left. \\frac{dm_<}{dr} \\right|_i \\Delta r\n",
    "\\end{align*}\n",
    "\n",
    "The equations are integrated out until a given index, $i=N$, where the pressure becomes zero (or negative). This signals that the surface of the star has been reached, so that the stellar radius is $R \\approx r_N$, and the total stellar mass is $M \\approx m_{<,N}$. In the code, the variable `number_coord` represents $N$. The radial coordinate, $r_i$; pressure, $P_i$; and mass, $m_{<,i}$, profiles are stored in arrays `radial_coord`; `mass_profile` and `pres_profile`, respectively. Each of these arrays has an extra dimension for the  different values of central density. The step size, $\\Delta r$, is given in `step_size`. The solution to the differential equations is computed here. Note that the solution requires the inversion of the equation of state to obtain $\\rho[P]$ - a step which is achieved by the `invert_eos` function in `eos_functions.py`."
   ]
  },
  {
   "cell_type": "code",
   "execution_count": null,
   "id": "aboriginal-prince",
   "metadata": {},
   "outputs": [],
   "source": [
    "##########################################################################\n",
    "# STEP SIZE OF INTEGRATION IN RADIAL COORDINATE\n",
    "step_size=2e-4\n",
    "# MAXIMUM NUMBER OF STEPS IN INTEGRATION\n",
    "iradial_max=int(10./step_size)\n",
    "\n",
    "# INITIALIZE MASS AND RADIUS ARRAYS\n",
    "WD_mass=np.zeros(number_central_density)\n",
    "WD_radius=np.zeros(number_central_density)\n",
    "\n",
    "# FOR EACH RHO_C, THIS STORES THE NUMBER OF POINTS IN RADIAL COORDINATE\n",
    "number_coord=np.zeros( number_central_density,dtype=int )\n",
    "# THIS STORES THE VALUE OF r, m_< & p FOR ALL RHO_C AND RADIAL COORDINATES\n",
    "radial_coord=np.zeros( (number_central_density,iradial_max) )\n",
    "mass_profile=np.zeros( (number_central_density,iradial_max) )\n",
    "pres_profile=np.zeros( (number_central_density,iradial_max) )\n",
    "\n",
    "# FORMATS FOR OUTPUT\n",
    "fmt_MR='# M={:6.3f} [M_sun] # R={:8.1f} [km]'\n",
    "\n",
    "# LOOP OVER CENTRAL DENSITY\n",
    "for irhoc, xfc in enumerate( xfc_range ):\n",
    "\n",
    "    # Numerical trick to provide a similar number of steps for all masses\n",
    "    stepr=step_size/xfc**(0.75)\n",
    "\n",
    "    # Solve differential equations with Euler method\n",
    "    # Initial conditions\n",
    "    mass_old=0.\n",
    "    press_old=pressure(xfc)\n",
    "    dens_old=np.power(xfc,3)\n",
    "    r_old=stepr\n",
    "\n",
    "    for iradial in range(0,iradial_max):\n",
    "\n",
    "# STORE IN ARRAY\n",
    "        radial_coord[ irhoc,iradial ]=r_old*radial_units # IN METERS\n",
    "        mass_profile[ irhoc,iradial ]=mass_old*mass_units # IN SOLAR MASSES\n",
    "        pres_profile[ irhoc,iradial ]=press_old*press_units # IN\n",
    "\n",
    "# EULER STEP FORWARD\n",
    "        dm=np.power(r_old,2)*dens_old*stepr\n",
    "        dp=-mass_old*dens_old/np.power(r_old,2)*stepr\n",
    "\n",
    "# NEW DATA IN EULER\n",
    "        press_new=press_old+dp\n",
    "        if press_new < 0. : break\n",
    "        mass_new=mass_old+dm\n",
    "        r_new=r_old+stepr\n",
    "        dens_old=invert_eos(press_new)\n",
    "\n",
    "        r_old=r_new\n",
    "        mass_old=mass_new\n",
    "        press_old=press_new\n",
    "\n",
    "    else:\n",
    "        print(\"Too many iterations\")\n",
    "        exit()\n",
    "    # EXITING LOOP OVER RADIAL COORDINATES\n",
    "\n",
    "    if( iradial < 100 ) :\n",
    "        print((\"Small number of iterations niter=\",iradial))\n",
    "\n",
    "    # FOR EACH CENTRAL DENSITY irhoc, STORE THE NUMBER OF RADIAL COORDINATES; THE RADIUS AND MASS OF THE STAR\n",
    "    number_coord[ irhoc ] = int(iradial)\n",
    "    WD_radius[ irhoc ] = r_old*radial_units\n",
    "    WD_mass[ irhoc ] = mass_old*mass_units\n",
    "\n",
    "    print(fmt_MR.format(WD_mass[irhoc],WD_radius[irhoc]))\n",
    "    # END LOOP OVER CENTRAL DENSITY"
   ]
  },
  {
   "cell_type": "markdown",
   "id": "requested-proposal",
   "metadata": {},
   "source": [
    "Having computed one white dwarf profile, we can now plot the results for the enclosed mass profile and the pressure profile. "
   ]
  },
  {
   "cell_type": "code",
   "execution_count": null,
   "id": "motivated-pressure",
   "metadata": {},
   "outputs": [],
   "source": [
    "# PLOT A MASS-RADIUS DIAGRAM, INCLUDING THE STAR'S PROFILE AS A FUNCTION OF r\n",
    "fig, (ax1,ax2) = plt.subplots(2,sharex=True)\n",
    "for iplot in range(0,number_central_density) :\n",
    "    ax1.plot(radial_coord[iplot,1:number_coord[iplot]], mass_profile[iplot,1:number_coord[iplot]],'c--',)\n",
    "\n",
    "ax1.plot( WD_radius,WD_mass,'o-')\n",
    "ax1.set(ylabel='Mass, $M$ / Mass profile, $m_<(r)$ [$M_\\odot$]')\n",
    "ax1.set_ylim([0,1.5])\n",
    "\n",
    "for iplot in range(0,number_central_density) :\n",
    "    ax2.semilogy(radial_coord[iplot,1:number_coord[iplot]], pres_profile[iplot,1:number_coord[iplot]],'g-',)\n",
    "\n",
    "ax2.set(xlabel='Radial coordinate [km]')\n",
    "ax2.set(ylabel='Pressure profile, $P(r)$ [Pa]')\n",
    "\n",
    "ax2.set_xlim([0,20000])\n",
    "ax2.set_ylim([1e19,1e32])\n",
    "\n",
    "#fig.savefig(\"WD.pdf\")\n",
    "plt.show()"
   ]
  },
  {
   "cell_type": "markdown",
   "id": "competent-quarter",
   "metadata": {},
   "source": [
    "# BIBLIOGRAPHY\n",
    "<a id='Jackson2004'></a> [Jackson2004] Jackson et al., [European Journal of Physics 26, 695 (2004)](http://dx.doi.org/10.1088/0143-0807/26/5/003); [astro-ph:0409348](http://arxiv.org/abs/astro-ph/).\n"
   ]
  },
  {
   "cell_type": "code",
   "execution_count": null,
   "id": "provincial-worry",
   "metadata": {},
   "outputs": [],
   "source": []
  }
 ],
 "metadata": {
  "kernelspec": {
   "display_name": "Python 3",
   "language": "python",
   "name": "python3"
  },
  "language_info": {
   "codemirror_mode": {
    "name": "ipython",
    "version": 3
   },
   "file_extension": ".py",
   "mimetype": "text/x-python",
   "name": "python",
   "nbconvert_exporter": "python",
   "pygments_lexer": "ipython3",
   "version": "3.9.1"
  }
 },
 "nbformat": 4,
 "nbformat_minor": 5
}
