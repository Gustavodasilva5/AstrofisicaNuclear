{
 "cells": [
  {
   "cell_type": "markdown",
   "id": "naked-mother",
   "metadata": {},
   "source": [
    "# The structure and properties of White Dwarfs\n",
    "## Introduction\n",
    "This notebook is part of the [Nuclear Astrophysics](https://master.us.es/fisicanuclear/index.php/cursos-2015-2017/astrofisica-nuclear-2) module of the [Inter-University Nuclear Physics Master's](https://master.us.es/fisicanuclear/index.php). The aim is to understand how to solve the stellar structure equations for white dwarf stars, with pressure provided by a degenerate electron gas. Pedagogical introductions to this topic can be found in the references [Jackson2004](Jacksoon2004).\n",
    "\n",
    "The equations to solve involve the equation of hydrostatic equilibium and the mass conservation equation:\n",
    "\n",
    "\\begin{align} \n",
    "\\frac{dP(r)}{dr}& = - \\frac{G m(r) \\rho(r)}{r^2} \\, , \\label{eq:pressure} \\tag{1} \\\\ \n",
    "\\frac{dm_<(r)}{dr}& = 4 \\pi r^2 \\rho(r) \\, . \\label{eq:mass}  \\tag{2} \n",
    "\\end{align} \n",
    "These equation relate the following variables:\n",
    " - $r$ is a radial coordinate spanning from the center of the star, $r=0$, to the radius of the star, $r=R$. \n",
    " - $P(r)$ is the pressure profile in the interior of the star, with two boundary conditions: a central pressure, $P(r=0)=P_c$, and the zero pressure at the stellar radius, $P(r=R)=0$. \n",
    " - The density profile, $\\rho(r)$, has the corresponding boundary conditions $\\rho(r=0)=\\rho_c$ and $\\rho(r=R)=0$. \n",
    " - $m_<(r)$ corresponds to the enclosed mass up to a given radial coordinate $r$. In other words, there is no mass at the central point, $m_<(r=0)=0$, whereas at the surface it encloses all the mass of the star, $m_<(r=R)=M$. \n",
    "\n",
    "## Physical considerations \n",
    "For a degenerate star, the two equations above are supplemented by an equation of state relating the pressure to the mass density, $P \\equiv P(\\rho)$. For a relativistic system of fermions, the density dependence is usually expressed in terms of the Fermi momentum. This is typically written in terms of the number density, $n$, as opposed to the mass density, $\\rho$, so that $k_F=\\left( 3 \\pi^2 n \\right)^{1/3}$. Furthermore, one can define the dimensionless Fermi momentum, $x_F=\\frac{\\hbar k_F}{m c}$, where $m$ is the mass of the particle providing the pressure (electrons in this case). This dimensionless ratio of two momenta defines two different regimes. A non-relativistic degenerate gas typicall has $x_F \\ll 1$, whereas a relativistic degenerate one has $x_F \\gg 1$. \n",
    "\n",
    "How does one compute the pressure for the relativistic gas? \n",
    "We start with the expression of the energy density of a relativistic gas:\n",
    "\n",
    "\\begin{align}\n",
    "    \\mathcal{E} (x_F) = \n",
    "    \\frac{ \\mathcal{E}_0 }{8 \\pi^2} \\left[ x_F \\left( 1+2x_F^2 \\right) \\sqrt{ 1 + x_F^2 } - \\ln \\left( x_F + \\sqrt{ 1+x_F^2} \\right) \\right] \\, , \\label{eq:energy} \\tag{3}\n",
    "\\end{align}\n",
    "\n",
    "where the constant $\\mathcal{E}_0 = \\frac{ (mc^2)^4 }{ (\\hbar c)^3}$. We will also need the derivative of the previous function,\n",
    "$$\n",
    "    \\mathcal{E}'(x_F) = \\frac{ \\mathcal{E}_0 }{\\pi^2} \\frac{ x_F^2 + x_F^4 }{\\sqrt{ 1+x_F^2}}\\ , .  \\label{eq:derenergy} \\tag{4}\n",
    "$$    \n",
    "To obtain the pressure, we can use the following thermodynamical equation,\n",
    "\n",
    "\\begin{align*}\n",
    "P = - \\left. \\frac{\\partial E}{\\partial V} \\right|_{N,T=0} = \n",
    "- \\left. \\frac{\\partial V \\mathcal{E}}{\\partial V} \\right|_{N,T=0} = \n",
    "- \\mathcal{E} - V \\left. \\frac{\\partial \\mathcal{E}}{\\partial V} \\right|_{N,T=0} \\, .\n",
    "\\label{eq:presTD} \\tag{5}\n",
    "\\end{align*}\n",
    "\n",
    "We can express the second term by a successive application of the chain rule:\n",
    "\n",
    "\\begin{align*}\n",
    "V \\left. \\frac{\\partial \\mathcal{E}}{\\partial V} \\right|_{N,T=0} = \n",
    "V \\left. \\underbrace{\\frac{\\partial \\mathcal{E}}{\\partial x_F}}_{\\mathcal{E}'(x_F)} \n",
    "\\underbrace{ \\frac{\\partial x_F}{\\partial k_F} }_{ \\frac{\\hbar}{mc} }\n",
    "\\underbrace{ \\frac{ \\partial k_F}{ \\partial V} }_{- \\frac{k_F}{3 V} } \\right. %|_{N,T=0} = \n",
    "=\n",
    "- \\frac{1}{3} x_F \\mathcal{E}'(x_F)\n",
    "\\end{align*}\n",
    "\n",
    "Going back to Eq. \\eqref{eq:presTD}, we see that the pressure can be obtained from the combination\n",
    "\n",
    "\\begin{align*}\n",
    "P( x_F) &= - \\mathcal{E} +\\frac{1}{3} x_F \\mathcal{E}'(x_F)   \\\\\n",
    "& = \\frac{ \\mathcal{E}_0 }{24 \\pi^2} \\left[ \n",
    "x_F \\sqrt{x_F^2+1} (2x_F^2-3) + 3 \\textrm{arcsinh}(x_F)\n",
    "\\right] \\, . \\tag{6}\n",
    "\\label{eq:pres_rel_deg} \n",
    "\\end{align*}\n",
    "\n",
    "We can use the previous expressions in the two limiting cases in terms of relativistic effects:\n",
    " - Non-relativistic limit $x \\ll 1$: \n",
    " $\\mathcal{E}(x_F) \\approx \\frac{ \\mathcal{E}_0 }{3 \\pi^2} x^3_F$ and $P(x_F) \\approx \\frac{ \\mathcal{E}_0 }{15 \\pi^2} x^5_F$.\n",
    "\n",
    " - Relativistic limit $x \\gg 1$: \n",
    " $\\mathcal{E}(x_F) \\approx \\frac{ \\mathcal{E}_0 }{2 \\pi^2} x^4_F$ and $P(x_F) \\approx \\frac{ \\mathcal{E}_0 }{6 \\pi^2} x^5_F$.\n",
    "\n",
    "\n",
    "## The code\n",
    "The python code `white_dwarfs.py` provides a solution to these equations. We now proceed to discuss the code following its structure. The code starts by importing the necessary libraries to perform numerical analysis (numpy) and plotting (matplotlib)."
   ]
  },
  {
   "cell_type": "code",
   "execution_count": null,
   "id": "republican-contemporary",
   "metadata": {},
   "outputs": [],
   "source": [
    "import numpy as np\n",
    "import matplotlib.pyplot as plt"
   ]
  },
  {
   "cell_type": "markdown",
   "id": "weighted-blend",
   "metadata": {},
   "source": [
    "This is followed by a call to import the numerical values of the relevant physical constants from the `physical_constants.py` file."
   ]
  },
  {
   "cell_type": "code",
   "execution_count": null,
   "id": "interesting-conspiracy",
   "metadata": {},
   "outputs": [],
   "source": [
    "from physical_constants import *"
   ]
  },
  {
   "cell_type": "markdown",
   "id": "textile-function",
   "metadata": {},
   "source": [
    "The equation of state of degenerate matter is defined in the functions within the file [eos_functions.py](eos_functions.py). These code in the two functions described in Eq. (3) and (4)."
   ]
  },
  {
   "cell_type": "code",
   "execution_count": null,
   "id": "saving-bristol",
   "metadata": {},
   "outputs": [],
   "source": [
    "# IMPORT EQUATION-OF-STATE FUNCTIONS\n",
    "from eos_functions import energy,derenergy"
   ]
  },
  {
   "cell_type": "markdown",
   "id": "descending-nerve",
   "metadata": {},
   "source": [
    "Next, we define the central densities, $\\rho_c$. The code will integrate the star's profile outwards starting from this value. The integration of Eqs. (1) and (2) will lead to one value of a star's total mass, $M$, and total radius, $R$. We start by choosing a single value, number_central_density=1 and $\\rho_c=1$ in units of xxx"
   ]
  },
  {
   "cell_type": "code",
   "execution_count": null,
   "id": "offensive-dependence",
   "metadata": {},
   "outputs": [],
   "source": [
    "# NUMBER OF CENTRAL DENSITIES (AND HENCE OF MASSES & RADII)\n",
    "number_central_density=1\n",
    "# RANGE OF CENTRAL DENSITIES\n",
    "central_density_i=1\n",
    "central_density_f=100.\n",
    "\n",
    "# DENSITIES DISTRIBUTED IN LOGARITHMIC STENCIL\n",
    "xfc_range=np.power(10,np.linspace(np.log10(central_density_i),np.log10(central_density_f),number_central_density))"
   ]
  },
  {
   "cell_type": "markdown",
   "id": "peaceful-lancaster",
   "metadata": {},
   "source": [
    "Another key physics input is the electron fraction, $Y_e$. With this, we can define units of mass and radius that are relevant to the problem:\n",
    "\\begin{align*}\n",
    "R_0 &= \\frac{ \\sqrt{15 \\pi}}{2 \\alpha_G^{1/2}} \\left( \\frac{\\hbar}{m c} \\right) Y_e \\approx 17250 Y_e \\, \\textrm{ [km]} \\, , \\\\\n",
    "M_0 &= \\frac{5 \\sqrt{ 15 \\pi}  }{6 \\alpha_G^{3/2}}  m_n Y_e \\approx 10.6 M_\\odot Y_e \n",
    "\\rho \\, .\n",
    "\\end{align*}\n",
    "In addition, the mass density of a uniform electron gas is related to $Y_e$ and $x_F$ through the following equation:\n",
    "\\begin{align*}\n",
    "rho &=  \\left( \\frac{\\hbar}{m c} \\right)^3 \\frac{m_n}{3 \\pi^2 Y_e} x_F^3 \\approx 9.81 \\times 10^8 Y_e^{-1} x_F^3 \\textrm{ [kg m}^{3}] \\, .\n",
    "\\end{align*}"
   ]
  },
  {
   "cell_type": "code",
   "execution_count": null,
   "id": "distributed-conference",
   "metadata": {},
   "outputs": [],
   "source": [
    "# ELECTRON FRACTION\n",
    "Ye=0.5;\n",
    "\n",
    "# MASS UNITS FOR A VALUE OF Ye\n",
    "M0_noYe=5./6.*np.sqrt(15.*pi)/np.power(alphaG,1.5)*mnuc/Msun\n",
    "mass_units=M0_noYe*np.power(Ye,2.) # unit mass M_0 in solar masses for y_e\n",
    "# RADIUS UNITS FOR A VALUE OF Ye\n",
    "R0_noYe=np.sqrt(15.*pi)/2./np.power(alphaG,0.5)*(hbar*c/me/np.power(c,2))/1e3\n",
    "radial_units=R0_noYe*Ye   # unit length R_0 in Km for y_e\n",
    "# DENSITY UNITS\n",
    "rho_noYe=np.power(me*c/hbar,3)*mnuc/(3.*np.power(pi,2))\n",
    "\n",
    "print('Typical Units for White Dwarfs')\n",
    "txt='# M0={:.5f} [M_sun]'\n",
    "print(txt.format(mass_units))\n",
    "txt='# R0={:.2f} [km]'\n",
    "print(txt.format(radial_units))\n",
    "txt='# rho0={:.4E}/Ye*xF^3 [kg m-3]'\n",
    "print(txt.format(rho_noYe))"
   ]
  },
  {
   "cell_type": "markdown",
   "id": "modular-motion",
   "metadata": {},
   "source": [
    "The differenial equations Eqs. (1) and (2) are solved by a using the Euler method. The radial variable is discretized so that $r_i = i \\Delta r$. We start with known values of the pressure, $P_0=P_c$, and the mass, $m_{<,0}=0$, at the centre, $r_0=0$. Using a Taylor expansion around $r_0$ (or any arbitrary point $r_i$, for that matter), we can approximate the values of these functions at $r_1= \\Delta r$ (or $r_{i+1}$) as:\n",
    "\n",
    "\\begin{align*}\n",
    "P_{i+1} &\\approx P_i + \\left. \\frac{dP}{dr} \\right|_i \\Delta r \\\\\n",
    "m_{<,i+1} &\\approx m_{<,i} + \\left. \\frac{dm_<}{dr} \\right|_i \\Delta r\n",
    "\\end{align*}\n",
    "\n",
    "The equations are integrated out until a given index, $i=N$, where the pressure becomes zero (or negative). This signals that the surface of the star has been reached, so that the stellar radius $R=r_N$ and its total mass $M=m_{<,N}$. In the code, the variable `number_coord` represents $N$. The radial coordinate, $r_i$; pressure, $P_i$; and mass, $m_{<,i}$, profiles are stored in arrays `radial_coord`; `mass_profile` and `pres_profile`, respectively. Each of these arrays has an extra dimension for the  different values of central density. The step size, $\\Delta r$, is given in `step_size`."
   ]
  },
  {
   "cell_type": "code",
   "execution_count": null,
   "id": "eastern-feeding",
   "metadata": {},
   "outputs": [],
   "source": [
    "# INITIALIZE MASS AND RADIUS ARRAYS\n",
    "WD_mass=np.zeros(number_central_density)\n",
    "WD_radius=np.zeros(number_central_density)\n",
    "\n",
    "# STEP SIZE OF INTEGRATION IN RADIAL COORDINATE\n",
    "step_size=1e-3\n",
    "# MAXIMUM NUMBER OF STEPS IN INTEGRATION\n",
    "iradial_max=int(10./step_size)\n",
    "\n",
    "# FOR EACH RHO_C, THIS STORES THE NUMBER OF POINTS IN RADIAL COORDINATE\n",
    "number_coord=np.zeros( number_central_density,dtype=int )\n",
    "# THIS STORES THE VALUE OF r, m_< & p FOR ALL RHO_C AND RADIAL COORDINATES\n",
    "radial_coord=np.zeros( (number_central_density,iradial_max) )\n",
    "mass_profile=np.zeros( (number_central_density,iradial_max) )\n",
    "pres_profile=np.zeros( (number_central_density,iradial_max) )\n",
    "\n",
    "# FORMATS FOR OUTPUT\n",
    "fmt='{:12.4f} {:12.4f} {:12.4E} {:12.4E} {:12.4E} {:12.4E}'\n",
    "fmt_MR='# M={:6.3f} [M_sun] # R={:8.1f} [km]'\n",
    "\n",
    "ifc=0;\n",
    "# LOOP OVER CENTRAL DENSITIES\n",
    "# xfc=VALUE OF CENTRAL X\n",
    "for xfc in xfc_range :\n",
    "\n",
    "    stepr=step_size/xfc  # adapt stepr to the central density\n",
    "\n",
    "# INITIALIZE THE PROBLEM WITH BOUNDARY CONDITIONS AT CENTER\n",
    "    rold=0.\n",
    "    xfold=xfc\n",
    "    mass_old=0.\n",
    "\n",
    "    for iradial in range(0,iradial_max):\n",
    "# ... compute mass density, pressure, energy density\n",
    "        dens=rho_noYe/Ye*np.power(xfold,3) # In Kg/m^3\n",
    "        ebar=energy(xfold)\n",
    "        derebar=derenergy(xfold)\n",
    "        pbar=-ebar+xfold*derebar/3.\n",
    "\n",
    "# STORE IN ARRAY\n",
    "        radial_coord[ ifc,iradial ]=rold*radial_units # IN METERS\n",
    "        mass_profile[ ifc,iradial ]=mass_old*mass_units # IN SOLAR MASSES\n",
    "        pres_profile[ ifc,iradial ]=pbar # IN\n",
    "\n",
    "# EULER STEP FORWARD\n",
    "\n",
    "        if mass_old==0. :\n",
    "            xfnew=xfold\n",
    "        else :\n",
    "            xfnew=xfold - stepr*5.*mass_old*np.sqrt(1.+np.power(xfold,2))/(3.*np.power(rold,2)*xfold)\n",
    "\n",
    "        mass_new=mass_old+stepr*3.*np.power(rold,2)*np.power(xfold,3)\n",
    "\n",
    "        if xfnew < 0. : break\n",
    "\n",
    "        rnew=rold+stepr\n",
    "\n",
    "        rold=rnew\n",
    "        xfold=xfnew\n",
    "        mass_old=mass_new\n",
    "\n",
    "    else:\n",
    "        print(\"Too many iterations\")\n",
    "        exit()\n",
    "    # EXITING LOOP OVER RADIAL COORDINATES\n",
    "\n",
    "    if( iradial < 100 ) :\n",
    "        print((\"Small number of iterations niter=\",iradial))\n",
    "\n",
    "    # FOR EACH CENTRAL DENSITY ifc, STORE THE NUMBER OF RADIAL COORDINATES; THE RADIUS AND MASS OF THE STAR\n",
    "    number_coord[ ifc ] = int(iradial)\n",
    "    WD_radius[ ifc ] = rold*radial_units\n",
    "    WD_mass[ ifc ] = mass_old*mass_units\n",
    "\n",
    "    print(fmt_MR.format(WD_mass[ifc],WD_radius[ifc]))\n",
    "\n",
    "    ifc=ifc+1\n",
    "    # END LOOP OVER CENTRAL DENSITY"
   ]
  },
  {
   "cell_type": "markdown",
   "id": "ignored-vault",
   "metadata": {},
   "source": [
    "Having computed one white dwarf profile, we can now plot the results for the enclosed mass profile and the pressure profile. "
   ]
  },
  {
   "cell_type": "code",
   "execution_count": null,
   "id": "central-copying",
   "metadata": {},
   "outputs": [],
   "source": [
    "fig, (ax1,ax2) = plt.subplots(2,sharex=True)\n",
    "\n",
    "# PLOT THE STAR'S MASS PROFILE AS A FUNCTION OF r\n",
    "for iplot in range(0,number_central_density) :\n",
    "    ax1.plot(radial_coord[iplot,1:number_coord[iplot]], mass_profile[iplot,1:number_coord[iplot]],'c--',)\n",
    "# PLOT THE STAR'S RADIUS AND MASS\n",
    "ax1.plot( WD_radius,WD_mass,'o-')\n",
    "ax1.set(ylabel='Mass, $M$ / Mass profile, $m_<(r)$ [$M_\\odot$]')\n",
    "ax1.set_ylim([0,1.5])\n",
    "\n",
    "# PLOT THE STAR'S PRESSURE PROFILE\n",
    "for iplot in range(0,number_central_density) :\n",
    "    ax2.semilogy(radial_coord[iplot,1:number_coord[iplot]], pres_profile[iplot,1:number_coord[iplot]],'g-',)\n",
    "\n",
    "ax2.set(xlabel='Radial coordinate [km]')\n",
    "ax2.set(ylabel='Pressure profile, $P(r)$ [Pa]')\n",
    "\n",
    "ax2.set_xlim([0,30000])\n",
    "ax2.set_ylim([1e-8,1e6])\n",
    "\n",
    "#fig.savefig(\"WD.pdf\")\n",
    "plt.show()"
   ]
  },
  {
   "cell_type": "markdown",
   "id": "reserved-campbell",
   "metadata": {},
   "source": [
    "# BIBLIOGRAPHY\n",
    "<a id='Jackson2004'></a> [Jackson2004] Jackson et al., [European Journal of Physics 26, 695 (2004)](http://dx.doi.org/10.1088/0143-0807/26/5/003); [astro-ph:0409348](http://arxiv.org/abs/astro-ph/).\n"
   ]
  },
  {
   "cell_type": "code",
   "execution_count": null,
   "id": "tamil-probability",
   "metadata": {},
   "outputs": [],
   "source": []
  },
  {
   "cell_type": "code",
   "execution_count": null,
   "id": "functioning-payroll",
   "metadata": {},
   "outputs": [],
   "source": []
  }
 ],
 "metadata": {
  "kernelspec": {
   "display_name": "Python 3",
   "language": "python",
   "name": "python3"
  },
  "language_info": {
   "codemirror_mode": {
    "name": "ipython",
    "version": 3
   },
   "file_extension": ".py",
   "mimetype": "text/x-python",
   "name": "python",
   "nbconvert_exporter": "python",
   "pygments_lexer": "ipython3",
   "version": "3.9.1"
  }
 },
 "nbformat": 4,
 "nbformat_minor": 5
}
